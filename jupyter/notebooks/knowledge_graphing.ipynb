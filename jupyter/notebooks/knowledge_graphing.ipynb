{
 "cells": [
  {
   "cell_type": "code",
   "execution_count": 1,
   "id": "728dd775-9475-4b3b-ac7b-d175c4563b25",
   "metadata": {
    "scrolled": true
   },
   "outputs": [
    {
     "name": "stdout",
     "output_type": "stream",
     "text": [
      "\u001b[33mWARNING: The directory '/root/.cache/pip' or its parent directory is not owned or is not writable by the current user. The cache has been disabled. Check the permissions and owner of that directory. If executing pip with sudo, you should use sudo's -H flag.\u001b[0m\u001b[33m\n",
      "\u001b[0mRequirement already satisfied: networkx[default,extra] in /usr/local/lib/python3.10/site-packages (3.2.1)\n",
      "Requirement already satisfied: pydot>=1.4.2 in /usr/local/lib/python3.10/site-packages (from networkx[default,extra]) (1.4.2)\n",
      "Requirement already satisfied: pygraphviz>=1.11 in /usr/local/lib/python3.10/site-packages (from networkx[default,extra]) (1.11)\n",
      "Requirement already satisfied: sympy>=1.10 in /usr/local/lib/python3.10/site-packages (from networkx[default,extra]) (1.12)\n",
      "Requirement already satisfied: lxml>=4.6 in /usr/local/lib/python3.10/site-packages (from networkx[default,extra]) (4.9.3)\n",
      "Requirement already satisfied: numpy>=1.22 in /usr/local/lib/python3.10/site-packages (from networkx[default,extra]) (1.26.2)\n",
      "Requirement already satisfied: pandas>=1.4 in /usr/local/lib/python3.10/site-packages (from networkx[default,extra]) (2.1.3)\n",
      "Requirement already satisfied: matplotlib>=3.5 in /usr/local/lib/python3.10/site-packages (from networkx[default,extra]) (3.8.2)\n",
      "Requirement already satisfied: scipy!=1.11.0,!=1.11.1,>=1.9 in /usr/local/lib/python3.10/site-packages (from networkx[default,extra]) (1.11.3)\n",
      "Requirement already satisfied: cycler>=0.10 in /usr/local/lib/python3.10/site-packages (from matplotlib>=3.5->networkx[default,extra]) (0.12.1)\n",
      "Requirement already satisfied: contourpy>=1.0.1 in /usr/local/lib/python3.10/site-packages (from matplotlib>=3.5->networkx[default,extra]) (1.2.0)\n",
      "Requirement already satisfied: python-dateutil>=2.7 in /usr/local/lib/python3.10/site-packages (from matplotlib>=3.5->networkx[default,extra]) (2.8.2)\n",
      "Requirement already satisfied: packaging>=20.0 in /usr/local/lib/python3.10/site-packages (from matplotlib>=3.5->networkx[default,extra]) (23.2)\n",
      "Requirement already satisfied: fonttools>=4.22.0 in /usr/local/lib/python3.10/site-packages (from matplotlib>=3.5->networkx[default,extra]) (4.45.0)\n",
      "Requirement already satisfied: pyparsing>=2.3.1 in /usr/local/lib/python3.10/site-packages (from matplotlib>=3.5->networkx[default,extra]) (3.1.1)\n",
      "Requirement already satisfied: pillow>=8 in /usr/local/lib/python3.10/site-packages (from matplotlib>=3.5->networkx[default,extra]) (9.5.0)\n",
      "Requirement already satisfied: kiwisolver>=1.3.1 in /usr/local/lib/python3.10/site-packages (from matplotlib>=3.5->networkx[default,extra]) (1.4.5)\n",
      "Requirement already satisfied: pytz>=2020.1 in /usr/local/lib/python3.10/site-packages (from pandas>=1.4->networkx[default,extra]) (2023.3.post1)\n",
      "Requirement already satisfied: tzdata>=2022.1 in /usr/local/lib/python3.10/site-packages (from pandas>=1.4->networkx[default,extra]) (2023.3)\n",
      "Requirement already satisfied: mpmath>=0.19 in /usr/local/lib/python3.10/site-packages (from sympy>=1.10->networkx[default,extra]) (1.3.0)\n",
      "Requirement already satisfied: six>=1.5 in /usr/local/lib/python3.10/site-packages (from python-dateutil>=2.7->matplotlib>=3.5->networkx[default,extra]) (1.16.0)\n",
      "\u001b[33mWARNING: Running pip as the 'root' user can result in broken permissions and conflicting behaviour with the system package manager. It is recommended to use a virtual environment instead: https://pip.pypa.io/warnings/venv\u001b[0m\u001b[33m\n",
      "\u001b[0m\n",
      "\u001b[1m[\u001b[0m\u001b[34;49mnotice\u001b[0m\u001b[1;39;49m]\u001b[0m\u001b[39;49m A new release of pip is available: \u001b[0m\u001b[31;49m23.0.1\u001b[0m\u001b[39;49m -> \u001b[0m\u001b[32;49m23.3.1\u001b[0m\n",
      "\u001b[1m[\u001b[0m\u001b[34;49mnotice\u001b[0m\u001b[1;39;49m]\u001b[0m\u001b[39;49m To update, run: \u001b[0m\u001b[32;49mpip install --upgrade pip\u001b[0m\n"
     ]
    }
   ],
   "source": [
    "!pip install networkx[default,extra]"
   ]
  },
  {
   "cell_type": "code",
   "execution_count": 2,
   "id": "b6b893ab-fb02-44ab-84ef-44ad541172cc",
   "metadata": {},
   "outputs": [],
   "source": [
    "from transformers import AutoModelForCausalLM, AutoTokenizer, pipeline\n",
    "from langchain.prompts import PromptTemplate\n",
    "import json\n",
    "import pandas as pd"
   ]
  },
  {
   "cell_type": "code",
   "execution_count": 3,
   "id": "2766f5dc-43bf-4d6e-9fa6-e56c2fb12c38",
   "metadata": {},
   "outputs": [],
   "source": [
    "MODEL_NAME = \"TheBloke/Mistral-7B-OpenOrca-GPTQ\""
   ]
  },
  {
   "cell_type": "code",
   "execution_count": 4,
   "id": "dfe47f40-6fae-4097-8ffe-3b4ff967c13c",
   "metadata": {},
   "outputs": [
    {
     "name": "stderr",
     "output_type": "stream",
     "text": [
      "Using `disable_exllama` is deprecated and will be removed in version 4.37. Use `use_exllama` instead and specify the version with `exllama_config`.The value of `use_exllama` will be overwritten by `disable_exllama` passed in `GPTQConfig` or stored in your config file.\n",
      "Special tokens have been added in the vocabulary, make sure the associated word embeddings are fine-tuned or trained.\n"
     ]
    }
   ],
   "source": [
    "model = AutoModelForCausalLM.from_pretrained(\n",
    "    MODEL_NAME,\n",
    "    device_map=\"auto\"\n",
    ")\n",
    "tokenizer = AutoTokenizer.from_pretrained(\n",
    "    MODEL_NAME,\n",
    "    device_map=\"auto\"\n",
    ")"
   ]
  },
  {
   "cell_type": "code",
   "execution_count": 5,
   "id": "3e20c140-f705-48ae-98c3-5d97715c5abd",
   "metadata": {},
   "outputs": [],
   "source": [
    "SYS_PROMPT = (\n",
    "    \"You are a network graph maker who extracts terms and their relations from a given context. \"\n",
    "    \"You are provided with a context chunk (delimited by ```) Your task is to extract the ontology \"\n",
    "    \"of terms mentioned in the given context. These terms should represent the key concepts as per the context. \\n\"\n",
    "    \"Thought 1: While traversing through each sentence, Think about the key terms mentioned in it.\\n\"\n",
    "        \"\\tTerms may include object, entity, location, organization, person, \\n\"\n",
    "        \"\\tcondition, acronym, documents, service, concept, etc.\\n\"\n",
    "        \"\\tTerms should be as atomistic as possible\\n\\n\"\n",
    "    \"Thought 2: Think about how these terms can have one on one relation with other terms.\\n\"\n",
    "        \"\\tTerms that are mentioned in the same sentence or the same paragraph are typically related to each other.\\n\"\n",
    "        \"\\tTerms can be related to many other terms\\n\\n\"\n",
    "    \"Thought 3: Find out the relation between each such related pair of terms. \\n\\n\"\n",
    "    \"Format your output as a list of json. Each element of the list contains a pair of terms\"\n",
    "    \"and the relation between them, like the follwing: \\n\"\n",
    "    \"[\\n\"\n",
    "    \"   {\\n\"\n",
    "    '       \"node_1\": \"A concept from extracted ontology\",\\n'\n",
    "    '       \"node_2\": \"A related concept from extracted ontology\",\\n'\n",
    "    '       \"edge\": \"relationship between the two concepts, node_1 and node_2, in a sentence or less\"\\n'\n",
    "    \"   }, {...}\\n\"\n",
    "    \"]\"\n",
    ")\n",
    "\n",
    "USER_PROMPT = \"context: ```{context}``` \\n\\n output: \""
   ]
  },
  {
   "cell_type": "code",
   "execution_count": 6,
   "id": "3779a827-6fb6-47a0-8827-0cf3590c8891",
   "metadata": {},
   "outputs": [],
   "source": [
    "generation_config = {\n",
    "            \"min_new_tokens\":1,\n",
    "            \"max_new_tokens\":1000,\n",
    "            \"do_sample\":False,\n",
    "            # \"temperature\":temperature,\n",
    "            # \"repetition_penalty\":repetition_penalty,\n",
    "            # \"num_beams\":num_beams,\n",
    "            # \"num_return_sequences\":num_return_sequences,\n",
    "        }"
   ]
  },
  {
   "cell_type": "code",
   "execution_count": 7,
   "id": "c764266f-f846-4f38-b560-dfef0c7a778f",
   "metadata": {},
   "outputs": [],
   "source": [
    "test_text = \"\"\"Mary had a little lamb,\n",
    "You’ve heard this tale before;\n",
    "But did you know she passed her plate,\n",
    "And had a little more!\"\"\""
   ]
  },
  {
   "cell_type": "code",
   "execution_count": 8,
   "id": "8d539686-0a35-46c3-865f-b8888b2d5e83",
   "metadata": {},
   "outputs": [],
   "source": [
    "user_prompt_formatted = USER_PROMPT.format(context=test_text)"
   ]
  },
  {
   "cell_type": "code",
   "execution_count": 9,
   "id": "a8cb4ab0-a2a2-4fa3-8295-ae00db42f1aa",
   "metadata": {},
   "outputs": [],
   "source": [
    "prompt = f\"{SYS_PROMPT}\\n\\n{user_prompt_formatted}\""
   ]
  },
  {
   "cell_type": "code",
   "execution_count": 10,
   "id": "dcd96590-0505-4438-a592-c69db868dc31",
   "metadata": {},
   "outputs": [
    {
     "data": {
      "text/plain": [
       "'You are a network graph maker who extracts terms and their relations from a given context. You are provided with a context chunk (delimited by ```) Your task is to extract the ontology of terms mentioned in the given context. These terms should represent the key concepts as per the context. \\nThought 1: While traversing through each sentence, Think about the key terms mentioned in it.\\n\\tTerms may include object, entity, location, organization, person, \\n\\tcondition, acronym, documents, service, concept, etc.\\n\\tTerms should be as atomistic as possible\\n\\nThought 2: Think about how these terms can have one on one relation with other terms.\\n\\tTerms that are mentioned in the same sentence or the same paragraph are typically related to each other.\\n\\tTerms can be related to many other terms\\n\\nThought 3: Find out the relation between each such related pair of terms. \\n\\nFormat your output as a list of json. Each element of the list contains a pair of termsand the relation between them, like the follwing: \\n[\\n   {\\n       \"node_1\": \"A concept from extracted ontology\",\\n       \"node_2\": \"A related concept from extracted ontology\",\\n       \"edge\": \"relationship between the two concepts, node_1 and node_2, in a sentence or less\"\\n   }, {...}\\n]\\n\\ncontext: ```Mary had a little lamb,\\nYou’ve heard this tale before;\\nBut did you know she passed her plate,\\nAnd had a little more!``` \\n\\n output: '"
      ]
     },
     "execution_count": 10,
     "metadata": {},
     "output_type": "execute_result"
    }
   ],
   "source": [
    "prompt"
   ]
  },
  {
   "cell_type": "code",
   "execution_count": 11,
   "id": "2e84eaac-da57-405b-a8d3-d90c5afa7bb6",
   "metadata": {},
   "outputs": [],
   "source": [
    "input_tensor = tokenizer.encode(prompt, return_tensors=\"pt\").to(\"cuda\")"
   ]
  },
  {
   "cell_type": "code",
   "execution_count": 12,
   "id": "9767c44a-f7f5-4597-b148-a1a97d91b26a",
   "metadata": {},
   "outputs": [
    {
     "name": "stderr",
     "output_type": "stream",
     "text": [
      "/usr/local/lib/python3.10/site-packages/transformers/generation/utils.py:1473: UserWarning: You have modified the pretrained model configuration to control generation. This is a deprecated strategy to control generation and will be removed soon, in a future version. Please use and modify the model generation configuration (see https://huggingface.co/docs/transformers/generation_strategies#default-text-generation-configuration )\n",
      "  warnings.warn(\n"
     ]
    }
   ],
   "source": [
    "output_tensor = model.generate(input_tensor, **generation_config)"
   ]
  },
  {
   "cell_type": "code",
   "execution_count": 13,
   "id": "1e5a845a-3628-45e7-970d-26baac79fd1c",
   "metadata": {},
   "outputs": [],
   "source": [
    "generated_tensor = output_tensor[:, input_tensor.shape[1] :]"
   ]
  },
  {
   "cell_type": "code",
   "execution_count": 14,
   "id": "b2fb4d65-7292-465c-9eae-cd3818c45382",
   "metadata": {},
   "outputs": [],
   "source": [
    "generated_text = tokenizer.batch_decode(generated_tensor)[0]"
   ]
  },
  {
   "cell_type": "code",
   "execution_count": 15,
   "id": "91495127-8e50-458a-87ed-40dc37277c0b",
   "metadata": {},
   "outputs": [],
   "source": [
    "model_stop_token = \"<|im_end|>\"\n",
    "generated_text = generated_text.split(model_stop_token)[0]"
   ]
  },
  {
   "cell_type": "code",
   "execution_count": 16,
   "id": "171be30f-98e9-4ca5-8b7b-fcd94144433b",
   "metadata": {},
   "outputs": [
    {
     "data": {
      "text/plain": [
       "'\\n[\\n   {\\n       \"node_1\": \"Mary\",\\n       \"node_2\": \"lamb\",\\n       \"edge\": \"had a little lamb\"\\n   }, {\\n       \"node_1\": \"Mary\",\\n       \"node_2\": \"plate\",\\n       \"edge\": \"passed her plate\"\\n   }, {\\n       \"node_1\": \"Mary\",\\n       \"node_2\": \"more\",\\n       \"edge\": \"had a little more\"\\n   }\\n]'"
      ]
     },
     "execution_count": 16,
     "metadata": {},
     "output_type": "execute_result"
    }
   ],
   "source": [
    "generated_text"
   ]
  },
  {
   "cell_type": "code",
   "execution_count": 17,
   "id": "c47e5147-817e-4d9f-ab16-d5fea73ad956",
   "metadata": {
    "scrolled": true
   },
   "outputs": [],
   "source": [
    "relationships_json = json.loads(generated_text)"
   ]
  },
  {
   "cell_type": "code",
   "execution_count": 18,
   "id": "e8b1a892-2fc2-4f2f-9b62-b1d6b823250d",
   "metadata": {},
   "outputs": [],
   "source": [
    "df = pd.DataFrame(relationships_json)"
   ]
  },
  {
   "cell_type": "code",
   "execution_count": 19,
   "id": "8848c020-0f9d-4dfe-94d5-47f93399f705",
   "metadata": {},
   "outputs": [],
   "source": [
    "import networkx as nx\n",
    "import matplotlib.pyplot as plt"
   ]
  },
  {
   "cell_type": "code",
   "execution_count": 20,
   "id": "c2cc51e1-5381-4fa4-9b70-eb3083223a4e",
   "metadata": {},
   "outputs": [],
   "source": [
    "nodes = [n for n in df[\"node_1\"]]\n",
    "nodes.extend([n for n in df[\"node_2\"]])\n",
    "nodes = list(set(nodes))"
   ]
  },
  {
   "cell_type": "code",
   "execution_count": 21,
   "id": "77951188-18e2-4ade-a10c-df4b12148a38",
   "metadata": {},
   "outputs": [
    {
     "data": {
      "text/plain": [
       "['Mary', 'more', 'lamb', 'plate']"
      ]
     },
     "execution_count": 21,
     "metadata": {},
     "output_type": "execute_result"
    }
   ],
   "source": [
    "nodes"
   ]
  },
  {
   "cell_type": "code",
   "execution_count": 22,
   "id": "f7ac2cb2-e806-440a-8b0c-2ce169d9c886",
   "metadata": {},
   "outputs": [],
   "source": [
    "G = nx.Graph()\n",
    "\n",
    "## Add nodes to the graph\n",
    "for node in nodes:\n",
    "    G.add_node(str(node))\n",
    "\n",
    "## Add edges to the graph\n",
    "edges = {}\n",
    "for index, row in df.iterrows():\n",
    "    node_1 = row[\"node_1\"]\n",
    "    node_2 = row[\"node_2\"]\n",
    "    title = row[\"edge\"]\n",
    "    G.add_edge(\n",
    "        node_1,\n",
    "        node_2,\n",
    "        title=title\n",
    "    )\n",
    "    edges[(node_1, node_2)] = title"
   ]
  },
  {
   "cell_type": "code",
   "execution_count": 23,
   "id": "a3aa4100-3b6c-4fae-aecd-23f173463bd3",
   "metadata": {},
   "outputs": [
    {
     "data": {
      "image/png": "[encoded data removed]",
      "text/plain": [
       "<Figure size 640x480 with 1 Axes>"
      ]
     },
     "metadata": {},
     "output_type": "display_data"
    }
   ],
   "source": [
    "plt.figure()\n",
    "pos = nx.spring_layout(G)\n",
    "nx.draw(\n",
    "    G, pos, edge_color='black', width=1, linewidths=1,\n",
    "    node_size=500, node_color='pink', alpha=0.9,\n",
    "    labels={node: node for node in G.nodes()}\n",
    ")\n",
    "nx.draw_networkx_edge_labels(\n",
    "    G, pos,\n",
    "    edge_labels=edges,\n",
    "    font_color='red'\n",
    ")\n",
    "plt.axis('off')\n",
    "plt.show()"
   ]
  },
  {
   "cell_type": "code",
   "execution_count": null,
   "id": "e8a47cab-62e4-4dc5-b078-083e5e2d05bd",
   "metadata": {},
   "outputs": [],
   "source": []
  }
 ],
 "metadata": {
  "kernelspec": {
   "display_name": "Python 3 (ipykernel)",
   "language": "python",
   "name": "python3"
  },
  "language_info": {
   "codemirror_mode": {
    "name": "ipython",
    "version": 3
   },
   "file_extension": ".py",
   "mimetype": "text/x-python",
   "name": "python",
   "nbconvert_exporter": "python",
   "pygments_lexer": "ipython3",
   "version": "3.10.13"
  }
 },
 "nbformat": 4,
 "nbformat_minor": 5
}
