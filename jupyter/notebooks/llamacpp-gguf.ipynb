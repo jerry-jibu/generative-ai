{
 "cells": [
  {
   "cell_type": "code",
   "execution_count": null,
   "id": "e2f943d0-183b-476d-b252-369c28961ef5",
   "metadata": {},
   "outputs": [],
   "source": [
    "from llama_cpp import Llama\n",
    "from huggingface_hub import hf_hub_download\n",
    "import time"
   ]
  },
  {
   "cell_type": "code",
   "execution_count": null,
   "id": "63fd548a-045b-417a-a7aa-785aee3df924",
   "metadata": {},
   "outputs": [],
   "source": [
    "# model_repo_id=\"TheBloke/Mixtral-8x7B-v0.1-GGUF\"\n",
    "# model_filename=\"mixtral-8x7b-v0.1.Q4_K_M.gguf\"\n",
    "\n",
    "# model_repo_id=\"lmstudio-community/Meta-Llama-3-8B-Instruct-GGUF\"\n",
    "# model_filename=\"Meta-Llama-3-8B-Instruct-Q4_K_M.gguf\"\n",
    "\n",
    "# model_repo_id=\"PrunaAI/Phi-3-mini-128k-instruct-GGUF-Imatrix-smashed\"\n",
    "# model_filename=\"Phi-3-mini-128k-instruct.Q8_0.gguf\"\n",
    "\n",
    "model_repo_id=\"lmstudio-community/Mistral-7B-Instruct-v0.3-GGUF\"\n",
    "model_filename=\"Mistral-7B-Instruct-v0.3-Q4_K_M.gguf\"\n",
    "\n",
    "model_path = hf_hub_download(repo_id=model_repo_id, filename=model_filename)"
   ]
  },
  {
   "cell_type": "code",
   "execution_count": null,
   "id": "6732f93e-c33e-419b-8068-e33271cf6caa",
   "metadata": {},
   "outputs": [],
   "source": [
    "model_path"
   ]
  },
  {
   "cell_type": "markdown",
   "id": "7862424c-0ebc-40e9-89e7-1570a79a9153",
   "metadata": {},
   "source": [
    "### Basic Usage"
   ]
  },
  {
   "cell_type": "code",
   "execution_count": null,
   "id": "59a0cf44-c225-4968-916c-ff9a87c7f549",
   "metadata": {
    "scrolled": true
   },
   "outputs": [],
   "source": [
    "# Set gpu_layers to the number of layers to offload to GPU. Set to 0 if no GPU acceleration is available on your system.\n",
    "llm = Llama(\n",
    "  model_path=model_path,  # Download the model file first\n",
    "  n_ctx=10000,  # The max sequence length to use - note that longer sequence lengths require much more resources\n",
    "  n_threads=3,            # The number of CPU threads to use, tailor to your system and the resulting performance\n",
    "  n_gpu_layers=33,       # The number of layers to offload to GPU, if you have GPU acceleration available\n",
    ");"
   ]
  },
  {
   "cell_type": "code",
   "execution_count": null,
   "id": "d870a849-352a-40c1-8cd8-a9ea527aebc6",
   "metadata": {},
   "outputs": [],
   "source": [
    "prompt = \"\"\"The meaning of life is\"\"\"\n",
    "# Simple inference example\n",
    "output = llm.create_completion(\n",
    "  prompt, # Prompt\n",
    "  max_tokens=100,  # Generate up to 512 tokens\n",
    "  echo=True        # Whether to echo the prompt\n",
    ")\n",
    "print(output[\"choices\"][0][\"text\"])"
   ]
  },
  {
   "cell_type": "code",
   "execution_count": null,
   "id": "9e253adb-0380-47a2-817f-616019b3c83c",
   "metadata": {
    "scrolled": true
   },
   "outputs": [],
   "source": [
    "llm.create_chat_completion(\n",
    "    messages = [\n",
    "        {\"role\": \"system\", \"content\": \"You are a story writing assistant.\"},\n",
    "        {\n",
    "            \"role\": \"user\",\n",
    "            \"content\": \"Write a story about llamas.\"\n",
    "        }\n",
    "    ]\n",
    ")"
   ]
  },
  {
   "cell_type": "code",
   "execution_count": null,
   "id": "90a267a5-9148-4ece-96b1-98b57fce9197",
   "metadata": {},
   "outputs": [],
   "source": []
  }
 ],
 "metadata": {
  "kernelspec": {
   "display_name": "Python 3 (ipykernel)",
   "language": "python",
   "name": "python3"
  },
  "language_info": {
   "codemirror_mode": {
    "name": "ipython",
    "version": 3
   },
   "file_extension": ".py",
   "mimetype": "text/x-python",
   "name": "python",
   "nbconvert_exporter": "python",
   "pygments_lexer": "ipython3",
   "version": "3.10.12"
  }
 },
 "nbformat": 4,
 "nbformat_minor": 5
}
