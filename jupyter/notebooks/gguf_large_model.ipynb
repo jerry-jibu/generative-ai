{
 "cells": [
  {
   "cell_type": "code",
   "execution_count": 2,
   "id": "e22556de-f5a5-4aea-ace7-e6568a13cb44",
   "metadata": {},
   "outputs": [],
   "source": [
    "from ctransformers import AutoModelForCausalLM, AutoTokenizer\n",
    "from huggingface_hub import hf_hub_download"
   ]
  },
  {
   "cell_type": "code",
   "execution_count": 3,
   "id": "4dd60792-a787-4199-8d91-caf942142f58",
   "metadata": {},
   "outputs": [],
   "source": [
    "model_name = \"TheBloke/Llama-2-70B-chat-GGUF\"\n",
    "model_file = \"llama-2-70b-chat.Q4_K_M.gguf\""
   ]
  },
  {
   "cell_type": "code",
   "execution_count": 4,
   "id": "04eef5af-6ad5-41ae-ade5-7aec843a7200",
   "metadata": {},
   "outputs": [
    {
     "data": {
      "text/plain": [
       "'/root/.cache/huggingface/hub/models--TheBloke--Llama-2-70B-chat-GGUF/snapshots/6657b410331f892e2ea27eb435ef53aeefeedfd6/llama-2-70b-chat.Q4_K_M.gguf'"
      ]
     },
     "execution_count": 4,
     "metadata": {},
     "output_type": "execute_result"
    }
   ],
   "source": [
    "hf_hub_download(model_name, filename=model_file)"
   ]
  },
  {
   "cell_type": "code",
   "execution_count": 5,
   "id": "974c06c6-0190-4695-afdc-fcf173443e21",
   "metadata": {},
   "outputs": [
    {
     "data": {
      "application/vnd.jupyter.widget-view+json": {
       "model_id": "2f6dac0227104a359a1934edc3726018",
       "version_major": 2,
       "version_minor": 0
      },
      "text/plain": [
       "Fetching 1 files:   0%|          | 0/1 [00:00<?, ?it/s]"
      ]
     },
     "metadata": {},
     "output_type": "display_data"
    },
    {
     "data": {
      "application/vnd.jupyter.widget-view+json": {
       "model_id": "10146e93fb4248e3b3745fa891c54ccb",
       "version_major": 2,
       "version_minor": 0
      },
      "text/plain": [
       "Fetching 1 files:   0%|          | 0/1 [00:00<?, ?it/s]"
      ]
     },
     "metadata": {},
     "output_type": "display_data"
    }
   ],
   "source": [
    "llm = AutoModelForCausalLM.from_pretrained(model_name, model_file=model_file, model_type=\"llama\", gpu_layers=20)\n"
   ]
  },
  {
   "cell_type": "code",
   "execution_count": 6,
   "id": "9900254e-444c-4f5b-a8fd-1a2726afbf5d",
   "metadata": {},
   "outputs": [
    {
     "name": "stdout",
     "output_type": "stream",
     "text": [
      " to find your gift. The purpose of life is to give it away.\n",
      "-Pablo Picasso\n",
      "I don’t want to get to the end of my life and find that I lived just for myself. I want to live a life that will outlast me, a life that will be remembered for generations to come. I want to make a difference in the world, to leave it a better place than I found it.\n",
      "-Rick Warren\n",
      "The purpose of life is not to be happy. The purpose of life is to matter, to make a difference, to have an impact on the world.\n",
      "-Harold Kushner\n",
      "The only way to do great work is to love what you do. Don’t waste your time doing things that don’t matter to you.\n",
      "-Steve Jobs\n",
      "The meaning of life is not something you can Google. It’s something you have to find for yourself. You have to think deeply, reflect on your experiences, and explore your own thoughts and feelings to discover what gives your life meaning. It’s a personal journey that requires effort and introspection.\n",
      "-Kathy Broady\n",
      "The purpose of life is not just to exist, but to persist. Not just\n"
     ]
    }
   ],
   "source": [
    "print(llm(\"The meaning of life is\"))"
   ]
  },
  {
   "cell_type": "code",
   "execution_count": null,
   "id": "3ded813a-23cc-4c01-aa0a-1e3902418a65",
   "metadata": {},
   "outputs": [],
   "source": []
  }
 ],
 "metadata": {
  "kernelspec": {
   "display_name": "Python 3 (ipykernel)",
   "language": "python",
   "name": "python3"
  },
  "language_info": {
   "codemirror_mode": {
    "name": "ipython",
    "version": 3
   },
   "file_extension": ".py",
   "mimetype": "text/x-python",
   "name": "python",
   "nbconvert_exporter": "python",
   "pygments_lexer": "ipython3",
   "version": "3.10.13"
  }
 },
 "nbformat": 4,
 "nbformat_minor": 5
}
