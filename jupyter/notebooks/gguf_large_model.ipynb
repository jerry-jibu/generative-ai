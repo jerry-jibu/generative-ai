{
 "cells": [
  {
   "cell_type": "code",
   "execution_count": 1,
   "id": "e22556de-f5a5-4aea-ace7-e6568a13cb44",
   "metadata": {},
   "outputs": [],
   "source": [
    "from ctransformers import AutoModelForCausalLM, AutoTokenizer\n",
    "from huggingface_hub import hf_hub_download\n",
    "import time"
   ]
  },
  {
   "cell_type": "code",
   "execution_count": 2,
   "id": "4dd60792-a787-4199-8d91-caf942142f58",
   "metadata": {},
   "outputs": [],
   "source": [
    "model_name = \"TheBloke/Llama-2-13B-chat-GGUF\"\n",
    "model_file = \"llama-2-13b-chat.Q4_K_M.gguf\"\n",
    "\n",
    "# model_name = \"TheBloke/Mistral-7B-OpenOrca-GGUF\"\n",
    "# model_file = \"mistral-7b-openorca.Q4_K_M.gguf\"\n",
    "\n",
    "# model_name = \"TheBloke/openchat_3.5-GGUF\"\n",
    "# model_file = \"openchat_3.5.Q4_K_M.gguf\"\n",
    "\n",
    "# model_name = \"TheBloke/vicuna-33B-GGUF\"\n",
    "# model_file = \"vicuna-33b.Q4_K_M.gguf\""
   ]
  },
  {
   "cell_type": "code",
   "execution_count": 3,
   "id": "04eef5af-6ad5-41ae-ade5-7aec843a7200",
   "metadata": {
    "scrolled": true
   },
   "outputs": [
    {
     "data": {
      "text/plain": [
       "'/root/.cache/huggingface/hub/models--TheBloke--Llama-2-13B-chat-GGUF/snapshots/4458acc949de0a9914c3eab623904d4fe999050a/llama-2-13b-chat.Q4_K_M.gguf'"
      ]
     },
     "execution_count": 3,
     "metadata": {},
     "output_type": "execute_result"
    }
   ],
   "source": [
    "hf_hub_download(model_name, filename=model_file)"
   ]
  },
  {
   "cell_type": "code",
   "execution_count": 4,
   "id": "974c06c6-0190-4695-afdc-fcf173443e21",
   "metadata": {},
   "outputs": [
    {
     "data": {
      "application/vnd.jupyter.widget-view+json": {
       "model_id": "f3aefd116ef249599b1c26ebde27d9c0",
       "version_major": 2,
       "version_minor": 0
      },
      "text/plain": [
       "Fetching 1 files:   0%|          | 0/1 [00:00<?, ?it/s]"
      ]
     },
     "metadata": {},
     "output_type": "display_data"
    },
    {
     "data": {
      "application/vnd.jupyter.widget-view+json": {
       "model_id": "231748eb9e2e4e19b375982fe338d879",
       "version_major": 2,
       "version_minor": 0
      },
      "text/plain": [
       "Fetching 1 files:   0%|          | 0/1 [00:00<?, ?it/s]"
      ]
     },
     "metadata": {},
     "output_type": "display_data"
    }
   ],
   "source": [
    "llm = AutoModelForCausalLM.from_pretrained(model_name, model_file=model_file, model_type=\"llama\", gpu_layers=0)"
   ]
  },
  {
   "cell_type": "code",
   "execution_count": 5,
   "id": "9900254e-444c-4f5b-a8fd-1a2726afbf5d",
   "metadata": {},
   "outputs": [
    {
     "name": "stdout",
     "output_type": "stream",
     "text": [
      " a question that has puzzled philosophers and theologians for centuries. There are many different perspectives on what the\n",
      "4.026142835617065\n"
     ]
    }
   ],
   "source": [
    "start_time = time.time()\n",
    "print(llm(\"The meaning of life is\", max_new_tokens=25))\n",
    "print(time.time() - start_time)"
   ]
  },
  {
   "cell_type": "code",
   "execution_count": null,
   "id": "7ac5e765-eee1-4e30-9149-23cee8cfc936",
   "metadata": {},
   "outputs": [],
   "source": []
  }
 ],
 "metadata": {
  "kernelspec": {
   "display_name": "Python 3 (ipykernel)",
   "language": "python",
   "name": "python3"
  },
  "language_info": {
   "codemirror_mode": {
    "name": "ipython",
    "version": 3
   },
   "file_extension": ".py",
   "mimetype": "text/x-python",
   "name": "python",
   "nbconvert_exporter": "python",
   "pygments_lexer": "ipython3",
   "version": "3.10.13"
  }
 },
 "nbformat": 4,
 "nbformat_minor": 5
}
