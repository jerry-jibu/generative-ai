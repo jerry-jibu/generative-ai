{
 "cells": [
  {
   "cell_type": "code",
   "execution_count": null,
   "id": "e22556de-f5a5-4aea-ace7-e6568a13cb44",
   "metadata": {},
   "outputs": [],
   "source": [
    "from huggingface_hub import hf_hub_download\n",
    "import time\n",
    "from llama_cpp import Llama"
   ]
  },
  {
   "cell_type": "code",
   "execution_count": null,
   "id": "4dd60792-a787-4199-8d91-caf942142f58",
   "metadata": {},
   "outputs": [],
   "source": [
    "# model_name = \"TheBloke/Llama-2-13B-chat-GGUF\"\n",
    "# model_file = \"llama-2-13b-chat.Q4_K_M.gguf\"\n",
    "\n",
    "# model_name = \"TheBloke/Mistral-7B-OpenOrca-GGUF\"\n",
    "# model_file = \"mistral-7b-openorca.Q4_K_M.gguf\"\n",
    "\n",
    "# model_name = \"TheBloke/openchat_3.5-GGUF\"\n",
    "# model_file = \"openchat_3.5.Q4_K_M.gguf\"\n",
    "\n",
    "# model_name = \"TheBloke/vicuna-33B-GGUF\"\n",
    "# model_file = \"vicuna-33b.Q4_K_M.gguf\"\n",
    "\n",
    "model_name = \"TheBloke/Mixtral-8x7B-Instruct-v0.1-GGUF\"\n",
    "model_file = \"mixtral-8x7b-instruct-v0.1.Q4_K_M.gguf\""
   ]
  },
  {
   "cell_type": "code",
   "execution_count": null,
   "id": "04eef5af-6ad5-41ae-ade5-7aec843a7200",
   "metadata": {
    "scrolled": true
   },
   "outputs": [],
   "source": [
    "model_path = hf_hub_download(model_name, filename=model_file)"
   ]
  },
  {
   "cell_type": "code",
   "execution_count": null,
   "id": "974c06c6-0190-4695-afdc-fcf173443e21",
   "metadata": {},
   "outputs": [],
   "source": [
    "llm = Llama(\n",
    "    model_path=model_path,\n",
    "    n_ctx=8000,  # The max sequence length to use - note that longer sequence lengths require much more resources\n",
    "    n_threads=8,            # The number of CPU threads to use, tailor to your system and the resulting performance\n",
    "    n_gpu_layers=100        # The number of layers to offload to GPU, if you have GPU acceleration available\n",
    ")"
   ]
  },
  {
   "cell_type": "code",
   "execution_count": null,
   "id": "926d798b-3f72-4c38-881e-d197e4509f4a",
   "metadata": {},
   "outputs": [],
   "source": [
    "generation_kwargs = {\n",
    "    \"max_tokens\":1000,\n",
    "    \"stop\":[\"</s>\"],\n",
    "    \"echo\":False\n",
    "}"
   ]
  },
  {
   "cell_type": "code",
   "execution_count": null,
   "id": "ee91629b-53af-4a2a-aeab-a16c0d1834a9",
   "metadata": {},
   "outputs": [],
   "source": [
    "prompt = \"\"\"<s>[INST] You are an honest assistant. Respond concisely to the user.\n",
    "\n",
    "User: What is the meaning of life?[/INST]\n",
    "\n",
    "Assistant:\"\"\""
   ]
  },
  {
   "cell_type": "code",
   "execution_count": null,
   "id": "9900254e-444c-4f5b-a8fd-1a2726afbf5d",
   "metadata": {},
   "outputs": [],
   "source": [
    "start_time = time.time()\n",
    "response = llm(prompt, **generation_kwargs)\n",
    "generated_text = response[\"choices\"][0][\"text\"]\n",
    "num_tokens = response[\"usage\"][\"completion_tokens\"]\n",
    "generation_time = time.time() - start_time\n",
    "print(response)\n",
    "print(f\"Output tokens: {num_tokens}\")\n",
    "print(f\"Generation time: {generation_time}\")\n",
    "print(f\"{num_tokens/generation_time} tokens per second\")\n"
   ]
  },
  {
   "cell_type": "code",
   "execution_count": null,
   "id": "7ac5e765-eee1-4e30-9149-23cee8cfc936",
   "metadata": {},
   "outputs": [],
   "source": []
  }
 ],
 "metadata": {
  "kernelspec": {
   "display_name": "Python 3 (ipykernel)",
   "language": "python",
   "name": "python3"
  },
  "language_info": {
   "codemirror_mode": {
    "name": "ipython",
    "version": 3
   },
   "file_extension": ".py",
   "mimetype": "text/x-python",
   "name": "python",
   "nbconvert_exporter": "python",
   "pygments_lexer": "ipython3",
   "version": "3.10.13"
  }
 },
 "nbformat": 4,
 "nbformat_minor": 5
}
