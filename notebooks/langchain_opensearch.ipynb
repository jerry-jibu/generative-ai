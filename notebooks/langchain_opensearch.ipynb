{
 "cells": [
  {
   "cell_type": "code",
   "execution_count": 1,
   "metadata": {},
   "outputs": [],
   "source": [
    "import os\n",
    "import getpass\n",
    "\n",
    "from transformers import AutoModelForCausalLM, AutoTokenizer, pipeline\n",
    "from langchain import HuggingFacePipeline\n",
    "from langchain.prompts import PromptTemplate\n",
    "from langchain.text_splitter import CharacterTextSplitter\n",
    "from langchain.vectorstores import OpenSearchVectorSearch\n",
    "from langchain.document_loaders import TextLoader\n",
    "from langchain.embeddings.huggingface import HuggingFaceEmbeddings\n",
    "from langchain.document_loaders import TextLoader\n",
    "from langchain.chains import RetrievalQA"
   ]
  },
  {
   "cell_type": "code",
   "execution_count": 2,
   "metadata": {},
   "outputs": [],
   "source": [
    "embeddings_model_name = \"sentence-transformers/all-MiniLM-L6-v2\""
   ]
  },
  {
   "cell_type": "code",
   "execution_count": 3,
   "metadata": {},
   "outputs": [],
   "source": [
    "embeddings = HuggingFaceEmbeddings(model_name=embeddings_model_name)"
   ]
  },
  {
   "cell_type": "code",
   "execution_count": 4,
   "metadata": {},
   "outputs": [],
   "source": [
    "\n",
    "loader = TextLoader(\"../data/state_of_the_union.txt\")\n",
    "documents = loader.load()\n",
    "text_splitter = CharacterTextSplitter(chunk_size=1000, chunk_overlap=0)\n",
    "docs = text_splitter.split_documents(documents)\n"
   ]
  },
  {
   "cell_type": "code",
   "execution_count": 5,
   "metadata": {},
   "outputs": [],
   "source": [
    "docsearch = OpenSearchVectorSearch.from_documents(\n",
    "    docs,\n",
    "    embeddings,\n",
    "    engine=\"faiss\",\n",
    "    space_type=\"innerproduct\",\n",
    "    ef_construction=256,\n",
    "    m=48,\n",
    "    opensearch_url=\"https://localhost:9200\",\n",
    "    http_auth=(\"admin\", \"admin\"),\n",
    "    use_ssl = False,\n",
    "    verify_certs = False,\n",
    "    ssl_assert_hostname = False,\n",
    "    ssl_show_warn = False,\n",
    ")"
   ]
  },
  {
   "cell_type": "code",
   "execution_count": 6,
   "metadata": {},
   "outputs": [],
   "source": [
    "query = \"How much does the president want to cut the cancer death rate?\"\n",
    "docs = docsearch.similarity_search(query, k=10)"
   ]
  },
  {
   "cell_type": "code",
   "execution_count": 7,
   "metadata": {},
   "outputs": [],
   "source": [
    "## As of 10/7/2023, need to run the pip install below, as Mistral is not included in main transformers library yet\n",
    "# pip install git+https://github.com/huggingface/transformers.git"
   ]
  },
  {
   "cell_type": "code",
   "execution_count": 8,
   "metadata": {},
   "outputs": [
    {
     "name": "stderr",
     "output_type": "stream",
     "text": [
      "Special tokens have been added in the vocabulary, make sure the associated word embeddings are fine-tuned or trained.\n"
     ]
    }
   ],
   "source": [
    "# model_name = \"PY007/TinyLlama-1.1B-Chat-v0.3\"\n",
    "model_name = \"TheBloke/CollectiveCognition-v1.1-Mistral-7B-GPTQ\"\n",
    "model = AutoModelForCausalLM.from_pretrained(model_name, \n",
    "                                             device_map=\"auto\",\n",
    "                                             )\n",
    "# model=model.to(\"cuda\")\n",
    "tokenizer = AutoTokenizer.from_pretrained(model_name,\n",
    "                                          device_map=\"auto\"\n",
    "                                          )\n",
    "pipe = pipeline(task=\"text-generation\", model=model, tokenizer=tokenizer)\n",
    "llm = HuggingFacePipeline(pipeline=pipe)"
   ]
  },
  {
   "cell_type": "code",
   "execution_count": null,
   "metadata": {},
   "outputs": [],
   "source": [
    "inputs = tokenizer.encode(query, return_tensors=\"pt\").to(\"cuda\")"
   ]
  },
  {
   "cell_type": "code",
   "execution_count": null,
   "metadata": {},
   "outputs": [],
   "source": [
    "output_tensor = model.generate(inputs, min_new_tokens=100, max_length=2000)"
   ]
  },
  {
   "cell_type": "code",
   "execution_count": null,
   "metadata": {},
   "outputs": [
    {
     "data": {
      "text/plain": [
       "tensor([   1, 1602, 1188,  ..., 2627,  272, 5541], device='cuda:0')"
      ]
     },
     "metadata": {},
     "output_type": "display_data"
    }
   ],
   "source": [
    "output_tensor[0]"
   ]
  },
  {
   "cell_type": "code",
   "execution_count": null,
   "metadata": {},
   "outputs": [],
   "source": [
    "generated_text = tokenizer.decode(output_tensor[0])"
   ]
  },
  {
   "cell_type": "code",
   "execution_count": null,
   "metadata": {},
   "outputs": [
    {
     "data": {
      "text/plain": [
       "'<s> How much does the president want to cut the cancer death rate?\\n\\nThat’s the question at the heart of a new report from the White House Council on Cancer. The report, released Tuesday, sets a goal of reducing the cancer death rate by at least 25 percent over the next 25 years.\\n\\nThe report says the goal is “ambitious but achievable.” It’s based on a review of the latest scientific evidence and input from experts in cancer prevention, treatment and research.\\n\\nThe report says the goal is “ambitious but achievable.” It’s based on a review of the latest scientific evidence and input from experts in cancer prevention, treatment and research.\\n\\nThe report says the goal is “ambitious but achievable.” It’s based on a review of the latest scientific evidence and input from experts in cancer prevention, treatment and research.\\n\\nThe report says the goal is “ambitious but achievable.” It’s based on a review of the latest scientific evidence and input from experts in cancer prevention, treatment and research.\\n\\nThe report says the goal is “ambitious but achievable.” It’s based on a review of the latest scientific evidence and input from experts in cancer prevention, treatment and research.\\n\\nThe report says the goal is “ambitious but achievable.” It’s based on a review of the latest scientific evidence and input from experts in cancer prevention, treatment and research.\\n\\nThe report says the goal is “ambitious but achievable.” It’s based on a review of the latest scientific evidence and input from experts in cancer prevention, treatment and research.\\n\\nThe report says the goal is “ambitious but achievable.” It’s based on a review of the latest scientific evidence and input from experts in cancer prevention, treatment and research.\\n\\nThe report says the goal is “ambitious but achievable.” It’s based on a review of the latest scientific evidence and input from experts in cancer prevention, treatment and research.\\n\\nThe report says the goal is “ambitious but achievable.” It’s based on a review of the latest scientific evidence and input from experts in cancer prevention, treatment and research.\\n\\nThe report says the goal is “ambitious but achievable.” It’s based on a review of the latest scientific evidence and input from experts in cancer prevention, treatment and research.\\n\\nThe report says the goal is “ambitious but achievable.” It’s based on a review of the latest scientific evidence and input from experts in cancer prevention, treatment and research.\\n\\nThe report says the goal is “ambitious but achievable.” It’s based on a review of the latest scientific evidence and input from experts in cancer prevention, treatment and research.\\n\\nThe report says the goal is “ambitious but achievable.” It’s based on a review of the latest scientific evidence and input from experts in cancer prevention, treatment and research.\\n\\nThe report says the goal is “ambitious but achievable.” It’s based on a review of the latest scientific evidence and input from experts in cancer prevention, treatment and research.\\n\\nThe report says the goal is “ambitious but achievable.” It’s based on a review of the latest scientific evidence and input from experts in cancer prevention, treatment and research.\\n\\nThe report says the goal is “ambitious but achievable.” It’s based on a review of the latest scientific evidence and input from experts in cancer prevention, treatment and research.\\n\\nThe report says the goal is “ambitious but achievable.” It’s based on a review of the latest scientific evidence and input from experts in cancer prevention, treatment and research.\\n\\nThe report says the goal is “ambitious but achievable.” It’s based on a review of the latest scientific evidence and input from experts in cancer prevention, treatment and research.\\n\\nThe report says the goal is “ambitious but achievable.” It’s based on a review of the latest scientific evidence and input from experts in cancer prevention, treatment and research.\\n\\nThe report says the goal is “ambitious but achievable.” It’s based on a review of the latest scientific evidence and input from experts in cancer prevention, treatment and research.\\n\\nThe report says the goal is “ambitious but achievable.” It’s based on a review of the latest scientific evidence and input from experts in cancer prevention, treatment and research.\\n\\nThe report says the goal is “ambitious but achievable.” It’s based on a review of the latest scientific evidence and input from experts in cancer prevention, treatment and research.\\n\\nThe report says the goal is “ambitious but achievable.” It’s based on a review of the latest scientific evidence and input from experts in cancer prevention, treatment and research.\\n\\nThe report says the goal is “ambitious but achievable.” It’s based on a review of the latest scientific evidence and input from experts in cancer prevention, treatment and research.\\n\\nThe report says the goal is “ambitious but achievable.” It’s based on a review of the latest scientific evidence and input from experts in cancer prevention, treatment and research.\\n\\nThe report says the goal is “ambitious but achievable.” It’s based on a review of the latest scientific evidence and input from experts in cancer prevention, treatment and research.\\n\\nThe report says the goal is “ambitious but achievable.” It’s based on a review of the latest scientific evidence and input from experts in cancer prevention, treatment and research.\\n\\nThe report says the goal is “ambitious but achievable.” It’s based on a review of the latest scientific evidence and input from experts in cancer prevention, treatment and research.\\n\\nThe report says the goal is “ambitious but achievable.” It’s based on a review of the latest scientific evidence and input from experts in cancer prevention, treatment and research.\\n\\nThe report says the goal is “ambitious but achievable.” It’s based on a review of the latest scientific evidence and input from experts in cancer prevention, treatment and research.\\n\\nThe report says the goal is “ambitious but achievable.” It’s based on a review of the latest scientific evidence and input from experts in cancer prevention, treatment and research.\\n\\nThe report says the goal is “ambitious but achievable.” It’s based on a review of the latest scientific evidence and input from experts in cancer prevention, treatment and research.\\n\\nThe report says the goal is “ambitious but achievable.” It’s based on a review of the latest scientific evidence and input from experts in cancer prevention, treatment and research.\\n\\nThe report says the goal is “ambitious but achievable.” It’s based on a review of the latest scientific evidence and input from experts in cancer prevention, treatment and research.\\n\\nThe report says the goal is “ambitious but achievable.” It’s based on a review of the latest scientific evidence and input from experts in cancer prevention, treatment and research.\\n\\nThe report says the goal is “ambitious but achievable.” It’s based on a review of the latest scientific evidence and input from experts in cancer prevention, treatment and research.\\n\\nThe report says the goal is “ambitious but achievable.” It’s based on a review of the latest scientific evidence and input from experts in cancer prevention, treatment and research.\\n\\nThe report says the goal is “ambitious but achievable.” It’s based on a review of the latest scientific evidence and input from experts in cancer prevention, treatment and research.\\n\\nThe report says the goal is “ambitious but achievable.” It’s based on a review of the latest scientific evidence and input from experts in cancer prevention, treatment and research.\\n\\nThe report says the goal is “ambitious but achievable.” It’s based on a review of the latest scientific evidence and input from experts in cancer prevention, treatment and research.\\n\\nThe report says the goal is “ambitious but achievable.” It’s based on a review of the latest scientific evidence and input from experts in cancer prevention, treatment and research.\\n\\nThe report says the goal is “ambitious but achievable.” It’s based on a review of the latest scientific evidence and input from experts in cancer prevention, treatment and research.\\n\\nThe report says the goal is “ambitious but achievable.” It’s based on a review of the latest scientific evidence and input from experts in cancer prevention, treatment and research.\\n\\nThe report says the goal is “ambitious but achievable.” It’s based on a review of the latest scientific evidence and input from experts in cancer prevention, treatment and research.\\n\\nThe report says the goal is “ambitious but achievable.” It’s based on a review of the latest scientific evidence and input from experts in cancer prevention, treatment and research.\\n\\nThe report says the goal is “ambitious but achievable.” It’s based on a review of the latest scientific evidence and input from experts in cancer prevention, treatment and research.\\n\\nThe report says the goal'"
      ]
     },
     "metadata": {},
     "output_type": "display_data"
    }
   ],
   "source": [
    "generated_text"
   ]
  },
  {
   "cell_type": "code",
   "execution_count": 62,
   "metadata": {},
   "outputs": [],
   "source": [
    "def run_retrieval_qa(query, k=4, min_new_tokens=1, max_length=2000, return_sources=True):\n",
    "    docs = docsearch.similarity_search(query, k=k)\n",
    "\n",
    "    context = \"\\n\".join([doc.page_content for doc in docs])\n",
    "\n",
    "    template = PromptTemplate(template=f\"\"\"\"\n",
    "    Context - {context}\n",
    "\n",
    "    Question: {{query}}\n",
    "\n",
    "    ASSISTANT: \n",
    "    \"\"\", input_variables=[\"query\"])\n",
    "\n",
    "    prompt = template.format(query=query)\n",
    "\n",
    "    input_tensor = tokenizer.encode(prompt, return_tensors=\"pt\").to(\"cuda\")\n",
    "    output_tensor = model.generate(input_tensor, min_new_tokens=min_new_tokens, max_length=max_length)\n",
    "\n",
    "    generated_text = tokenizer.decode(output_tensor[0]).replace(prompt,\"\")\n",
    "    replace_tokens = (\"<s>\",)\n",
    "    for token in replace_tokens:\n",
    "        generated_text = generated_text.replace(token,\"\")\n",
    "    generated_text = generated_text.strip()\n",
    "    \n",
    "\n",
    "    output = {\n",
    "        \"text\": generated_text\n",
    "    }\n",
    "    if return_sources: output[\"sources\"] = docs\n",
    "    return output"
   ]
  },
  {
   "cell_type": "code",
   "execution_count": 63,
   "metadata": {},
   "outputs": [
    {
     "data": {
      "text/plain": [
       "{'text': \"The President wants to cut the cancer death rate by at least 50% over the next 25 years. This is a bold and ambitious goal, but one that is achievable with the right investments and strategies.\\n\\n    The goal is to turn more cancers from death sentences into treatable diseases. This means developing new treatments, improving early detection and screening methods, and finding ways to prevent cancer in the first place.\\n\\n    The President's Cancer Moonshot, which he launched in 2016, is a national effort to accelerate progress in cancer research and care. The Moonshot aims to double the rate of progress in cancer research over the next decade, and to make more treatments available to more patients, particularly those from underserved communities.\\n\\n    The Moonshot is just one part of the President's plan to supercharge cancer research and care. The ARPA-H (Advanced Research Projects Agency for Health) is another key component. ARPA-H will be a new federal agency modeled after DARPA (Defense Advanced Research Projects Agency) with a singular focus on driving breakthroughs in cancer, Alzheimer's, diabetes, and other diseases.\\n\\n    By investing in research, early detection, and prevention, the President's plan aims to make a significant dent in the cancer death rate over the next 25 years.</s>\",\n",
       " 'sources': [Document(page_content='Last month, I announced our plan to supercharge  \\nthe Cancer Moonshot that President Obama asked me to lead six years ago. \\n\\nOur goal is to cut the cancer death rate by at least 50% over the next 25 years, turn more cancers from death sentences into treatable diseases.  \\n\\nMore support for patients and families. \\n\\nTo get there, I call on Congress to fund ARPA-H, the Advanced Research Projects Agency for Health. \\n\\nIt’s based on DARPA—the Defense Department project that led to the Internet, GPS, and so much more.  \\n\\nARPA-H will have a singular purpose—to drive breakthroughs in cancer, Alzheimer’s, diabetes, and more. \\n\\nA unity agenda for the nation. \\n\\nWe can do this. \\n\\nMy fellow Americans—tonight , we have gathered in a sacred space—the citadel of our democracy. \\n\\nIn this Capitol, generation after generation, Americans have debated great questions amid great strife, and have done great things. \\n\\nWe have fought for freedom, expanded liberty, defeated totalitarianism and terror.', metadata={'source': '../data/state_of_the_union.txt'}),\n",
       "  Document(page_content='But cancer from prolonged exposure to burn pits ravaged Heath’s lungs and body. \\n\\nDanielle says Heath was a fighter to the very end. \\n\\nHe didn’t know how to stop fighting, and neither did she. \\n\\nThrough her pain she found purpose to demand we do better. \\n\\nTonight, Danielle—we are. \\n\\nThe VA is pioneering new ways of linking toxic exposures to diseases, already helping more veterans get benefits. \\n\\nAnd tonight, I’m announcing we’re expanding eligibility to veterans suffering from nine respiratory cancers. \\n\\nI’m also calling on Congress: pass a law to make sure veterans devastated by toxic exposures in Iraq and Afghanistan finally get the benefits and comprehensive health care they deserve. \\n\\nAnd fourth, let’s end cancer as we know it. \\n\\nThis is personal to me and Jill, to Kamala, and to so many of you. \\n\\nCancer is the #2 cause of death in America–second only to heart disease.', metadata={'source': '../data/state_of_the_union.txt'}),\n",
       "  Document(page_content='And with 75% of adult Americans fully vaccinated and hospitalizations down by 77%, most Americans can remove their masks, return to work, stay in the classroom, and move forward safely. \\n\\nWe achieved this because we provided free vaccines, treatments, tests, and masks. \\n\\nOf course, continuing this costs money. \\n\\nI will soon send Congress a request. \\n\\nThe vast majority of Americans have used these tools and may want to again, so I expect Congress to pass it quickly.   \\n\\nFourth, we will continue vaccinating the world.     \\n\\nWe’ve sent 475 Million vaccine doses to 112 countries, more than any other nation. \\n\\nAnd we won’t stop. \\n\\nWe have lost so much to COVID-19. Time with one another. And worst of all, so much loss of life. \\n\\nLet’s use this moment to reset. Let’s stop looking at COVID-19 as a partisan dividing line and see it for what it is: A God-awful disease.  \\n\\nLet’s stop seeing each other as enemies, and start seeing each other for who we really are: Fellow Americans.', metadata={'source': '../data/state_of_the_union.txt'}),\n",
       "  Document(page_content='We got more than 130 countries to agree on a global minimum tax rate so companies can’t get out of paying their taxes at home by shipping jobs and factories overseas. \\n\\nThat’s why I’ve proposed closing loopholes so the very wealthy don’t pay a lower tax rate than a teacher or a firefighter.  \\n\\nSo that’s my plan. It will grow the economy and lower costs for families. \\n\\nSo what are we waiting for? Let’s get this done. And while you’re at it, confirm my nominees to the Federal Reserve, which plays a critical role in fighting inflation.  \\n\\nMy plan will not only lower costs to give families a fair shot, it will lower the deficit. \\n\\nThe previous Administration not only ballooned the deficit with tax cuts for the very wealthy and corporations, it undermined the watchdogs whose job was to keep pandemic relief funds from being wasted. \\n\\nBut in my administration, the watchdogs have been welcomed back.', metadata={'source': '../data/state_of_the_union.txt'})]}"
      ]
     },
     "execution_count": 63,
     "metadata": {},
     "output_type": "execute_result"
    }
   ],
   "source": [
    "run_retrieval_qa(query)"
   ]
  },
  {
   "cell_type": "code",
   "execution_count": 65,
   "metadata": {},
   "outputs": [
    {
     "data": {
      "text/plain": [
       "[Document(page_content='But cancer from prolonged exposure to burn pits ravaged Heath’s lungs and body. \\n\\nDanielle says Heath was a fighter to the very end. \\n\\nHe didn’t know how to stop fighting, and neither did she. \\n\\nThrough her pain she found purpose to demand we do better. \\n\\nTonight, Danielle—we are. \\n\\nThe VA is pioneering new ways of linking toxic exposures to diseases, already helping more veterans get benefits. \\n\\nAnd tonight, I’m announcing we’re expanding eligibility to veterans suffering from nine respiratory cancers. \\n\\nI’m also calling on Congress: pass a law to make sure veterans devastated by toxic exposures in Iraq and Afghanistan finally get the benefits and comprehensive health care they deserve. \\n\\nAnd fourth, let’s end cancer as we know it. \\n\\nThis is personal to me and Jill, to Kamala, and to so many of you. \\n\\nCancer is the #2 cause of death in America–second only to heart disease.', metadata={'source': '../data/state_of_the_union.txt'}),\n",
       " Document(page_content='Last month, I announced our plan to supercharge  \\nthe Cancer Moonshot that President Obama asked me to lead six years ago. \\n\\nOur goal is to cut the cancer death rate by at least 50% over the next 25 years, turn more cancers from death sentences into treatable diseases.  \\n\\nMore support for patients and families. \\n\\nTo get there, I call on Congress to fund ARPA-H, the Advanced Research Projects Agency for Health. \\n\\nIt’s based on DARPA—the Defense Department project that led to the Internet, GPS, and so much more.  \\n\\nARPA-H will have a singular purpose—to drive breakthroughs in cancer, Alzheimer’s, diabetes, and more. \\n\\nA unity agenda for the nation. \\n\\nWe can do this. \\n\\nMy fellow Americans—tonight , we have gathered in a sacred space—the citadel of our democracy. \\n\\nIn this Capitol, generation after generation, Americans have debated great questions amid great strife, and have done great things. \\n\\nWe have fought for freedom, expanded liberty, defeated totalitarianism and terror.', metadata={'source': '../data/state_of_the_union.txt'}),\n",
       " Document(page_content='One was stationed at bases and breathing in toxic smoke from “burn pits” that incinerated wastes of war—medical and hazard material, jet fuel, and more. \\n\\nWhen they came home, many of the world’s fittest and best trained warriors were never the same. \\n\\nHeadaches. Numbness. Dizziness. \\n\\nA cancer that would put them in a flag-draped coffin. \\n\\nI know. \\n\\nOne of those soldiers was my son Major Beau Biden. \\n\\nWe don’t know for sure if a burn pit was the cause of his brain cancer, or the diseases of so many of our troops. \\n\\nBut I’m committed to finding out everything we can. \\n\\nCommitted to military families like Danielle Robinson from Ohio. \\n\\nThe widow of Sergeant First Class Heath Robinson.  \\n\\nHe was born a soldier. Army National Guard. Combat medic in Kosovo and Iraq. \\n\\nStationed near Baghdad, just yards from burn pits the size of football fields. \\n\\nHeath’s widow Danielle is here with us tonight. They loved going to Ohio State football games. He loved building Legos with their daughter.', metadata={'source': '../data/state_of_the_union.txt'}),\n",
       " Document(page_content='And with 75% of adult Americans fully vaccinated and hospitalizations down by 77%, most Americans can remove their masks, return to work, stay in the classroom, and move forward safely. \\n\\nWe achieved this because we provided free vaccines, treatments, tests, and masks. \\n\\nOf course, continuing this costs money. \\n\\nI will soon send Congress a request. \\n\\nThe vast majority of Americans have used these tools and may want to again, so I expect Congress to pass it quickly.   \\n\\nFourth, we will continue vaccinating the world.     \\n\\nWe’ve sent 475 Million vaccine doses to 112 countries, more than any other nation. \\n\\nAnd we won’t stop. \\n\\nWe have lost so much to COVID-19. Time with one another. And worst of all, so much loss of life. \\n\\nLet’s use this moment to reset. Let’s stop looking at COVID-19 as a partisan dividing line and see it for what it is: A God-awful disease.  \\n\\nLet’s stop seeing each other as enemies, and start seeing each other for who we really are: Fellow Americans.', metadata={'source': '../data/state_of_the_union.txt'})]"
      ]
     },
     "execution_count": 65,
     "metadata": {},
     "output_type": "execute_result"
    }
   ],
   "source": [
    "docsearch.similarity_search(\"cancer moonshot 2016\")"
   ]
  },
  {
   "cell_type": "code",
   "execution_count": null,
   "metadata": {},
   "outputs": [],
   "source": []
  }
 ],
 "metadata": {
  "kernelspec": {
   "display_name": "venv",
   "language": "python",
   "name": "python3"
  },
  "language_info": {
   "codemirror_mode": {
    "name": "ipython",
    "version": 3
   },
   "file_extension": ".py",
   "mimetype": "text/x-python",
   "name": "python",
   "nbconvert_exporter": "python",
   "pygments_lexer": "ipython3",
   "version": "3.10.12"
  },
  "orig_nbformat": 4
 },
 "nbformat": 4,
 "nbformat_minor": 2
}
